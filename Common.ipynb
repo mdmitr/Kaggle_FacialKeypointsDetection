{
 "cells": [
  {
   "cell_type": "code",
   "execution_count": 1,
   "metadata": {
    "collapsed": true
   },
   "outputs": [],
   "source": [
    "import pandas as pd\n",
    "import numpy as np\n",
    "import zipfile\n",
    "\n",
    "%matplotlib notebook\n",
    "import matplotlib.pyplot as plt\n",
    "\n",
    "plt.rcParams['toolbar'] = 'None' "
   ]
  },
  {
   "cell_type": "code",
   "execution_count": 2,
   "metadata": {
    "collapsed": true
   },
   "outputs": [],
   "source": [
    "def load_all_data():\n",
    "    \n",
    "    # load idLookUp table\n",
    "    idLookUp = pd.read_csv('data/IdLookupTable.csv')\n",
    "    \n",
    "    # read cvs's from zip\n",
    "    z = zipfile.ZipFile('data/training.zip')\n",
    "    train = pd.read_csv(z.open('training.csv'))\n",
    "    z = zipfile.ZipFile('data/test.zip')\n",
    "    test = pd.read_csv(z.open('test.csv'))\n",
    "    keypoints_columns = train.columns[0:-1]\n",
    "    \n",
    "    # drop nans\n",
    "    for keypoint in keypoints_columns:\n",
    "        train = train[np.isfinite(train[keypoint])]\n",
    "    train.index = range(0, len(train))\n",
    "    \n",
    "    # convert images\n",
    "    train['Image1'] = train.Image.apply(lambda im: np.reshape(np.fromstring(im, sep=' '),96*96))\n",
    "    train['Image2'] = train.Image1.apply(lambda img: img.reshape(96,96))\n",
    "    test['Image1'] = test.Image.apply(lambda im: np.fromstring(im, sep=' '))\n",
    "    test['Image2'] = test.Image1.apply(lambda img: img.reshape(96,96))\n",
    "    \n",
    "    # Create useful arrays with training and test data\n",
    "    train_X = np.vstack(train.Image1.values)\n",
    "    train_y = train[keypoints_columns].values\n",
    "    test_X = np.vstack(test.Image1.values)\n",
    "    \n",
    "    return [idLookUp, keypoints_columns, train, test, train_X, train_y, test_X]"
   ]
  },
  {
   "cell_type": "code",
   "execution_count": 3,
   "metadata": {
    "collapsed": true
   },
   "outputs": [],
   "source": [
    "def plot_sample(x, y, axis):\n",
    "    plt.imshow(x, cmap='gray')\n",
    "    plt.scatter(y[0::2], y[1::2], marker='x', s=10)"
   ]
  },
  {
   "cell_type": "code",
   "execution_count": 4,
   "metadata": {
    "collapsed": true
   },
   "outputs": [],
   "source": [
    "def plot_images(data, y_pred, page):\n",
    "    fig = plt.figure(figsize=(6, 6))\n",
    "    fig.subplots_adjust(\n",
    "        left=0, right=1, bottom=0, top=1, hspace=0.05, wspace=0.05)\n",
    "\n",
    "    \n",
    "    for i in range(16*(page-1),16*page):\n",
    "        ax = fig.add_subplot(4, 4, (i%16) + 1, xticks=[], yticks=[])\n",
    "        plot_sample(data.Image2[i], y_pred[i], ax)"
   ]
  }
 ],
 "metadata": {
  "kernelspec": {
   "display_name": "Python 3",
   "language": "python",
   "name": "python3"
  },
  "language_info": {
   "codemirror_mode": {
    "name": "ipython",
    "version": 3
   },
   "file_extension": ".py",
   "mimetype": "text/x-python",
   "name": "python",
   "nbconvert_exporter": "python",
   "pygments_lexer": "ipython3",
   "version": "3.5.1"
  }
 },
 "nbformat": 4,
 "nbformat_minor": 0
}
